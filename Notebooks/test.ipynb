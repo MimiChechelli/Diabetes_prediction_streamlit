{
 "cells": [
  {
   "cell_type": "code",
   "execution_count": 17,
   "id": "f8f93998",
   "metadata": {},
   "outputs": [],
   "source": [
    "# %pip install streamlit ucimlrepo pandas kagglehub matplotlib plotly scikit-learn seaborn"
   ]
  },
  {
   "cell_type": "code",
   "execution_count": 18,
   "id": "100f7600",
   "metadata": {},
   "outputs": [
    {
     "data": {
      "text/plain": [
       "0"
      ]
     },
     "execution_count": 18,
     "metadata": {},
     "output_type": "execute_result"
    }
   ],
   "source": [
    "import os\n",
    "\n",
    "# Sobe um nível a partir da pasta do notebook\n",
    "project_root = os.path.abspath(os.path.join(os.getcwd(), \"..\"))\n",
    "\n",
    "# Salva o requirements.txt na raiz do projeto\n",
    "os.system(f\"pip freeze > {os.path.join(project_root, 'requirements.txt')}\")"
   ]
  },
  {
   "cell_type": "code",
   "execution_count": null,
   "id": "0fe5ba58",
   "metadata": {},
   "outputs": [],
   "source": [
    "import kagglehub\n",
    "\n",
    "# Download latest version\n",
    "not_that_creative_path = kagglehub.dataset_download(\"iammustafatz/diabetes-prediction-dataset\") # https://www.kaggle.com/datasets/iammustafatz/diabetes-prediction-dataset\n",
    "pima_path = kagglehub.dataset_download(\"uciml/pima-indians-diabetes-database\") # https://www.kaggle.com/datasets/uciml/pima-indians-diabetes-database?resource=download\n",
    "pima_path_2 = kagglehub.dataset_download(\"mathchi/diabetes-data-set\") # https://www.kaggle.com/datasets/mathchi/diabetes-data-set"
   ]
  },
  {
   "cell_type": "code",
   "execution_count": null,
   "id": "724e6959",
   "metadata": {},
   "outputs": [],
   "source": [
    "# https://archive.ics.uci.edu/dataset/891/cdc+diabetes+health+indicators\n",
    "\n",
    "from ucimlrepo import fetch_ucirepo \n",
    "  \n",
    "# fetch dataset \n",
    "cdc_diabetes_health_indicators = fetch_ucirepo(id=891) \n",
    "  \n",
    "# data (as pandas dataframes) \n",
    "X = cdc_diabetes_health_indicators.data.features \n",
    "y = cdc_diabetes_health_indicators.data.targets \n",
    "  \n",
    "# metadata \n",
    "print(cdc_diabetes_health_indicators.metadata) \n",
    "  \n",
    "# variable information \n",
    "print(cdc_diabetes_health_indicators.variables) \n"
   ]
  },
  {
   "cell_type": "code",
   "execution_count": null,
   "id": "ab895fc4",
   "metadata": {},
   "outputs": [],
   "source": [
    "import pandas as pd\n",
    "df = pd.read_csv(path / \"diabetes.csv\")"
   ]
  },
  {
   "cell_type": "markdown",
   "id": "cd5d8519",
   "metadata": {},
   "source": [
    "https://data.mendeley.com/datasets/7m7555vgrn/1"
   ]
  },
  {
   "cell_type": "markdown",
   "id": "ae245f20",
   "metadata": {},
   "source": [
    "https://scikit-learn.org/stable/modules/generated/sklearn.datasets.load_diabetes.html"
   ]
  }
 ],
 "metadata": {
  "kernelspec": {
   "display_name": ".venv",
   "language": "python",
   "name": "python3"
  },
  "language_info": {
   "codemirror_mode": {
    "name": "ipython",
    "version": 3
   },
   "file_extension": ".py",
   "mimetype": "text/x-python",
   "name": "python",
   "nbconvert_exporter": "python",
   "pygments_lexer": "ipython3",
   "version": "3.12.3"
  }
 },
 "nbformat": 4,
 "nbformat_minor": 5
}
